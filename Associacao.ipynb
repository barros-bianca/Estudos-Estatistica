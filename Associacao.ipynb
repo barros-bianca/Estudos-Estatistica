{
 "cells": [
  {
   "cell_type": "markdown",
   "metadata": {},
   "source": [
    "## ASSOCIAÇÃO\n",
    "\n",
    "As regras de associação são usadas para descobrir relações interessantes entre variáveis em grandes bases de dados\n",
    "\n",
    "Suporte (Support): O suporte de um itemset é a proporção de transações no banco de dados que contêm esse itemset\n",
    "\n",
    "Propriedade Apriori: Se um itemset é frequente, então todos os seus subconjuntos são também frequentes"
   ]
  },
  {
   "cell_type": "code",
   "execution_count": 13,
   "metadata": {},
   "outputs": [],
   "source": [
    "import pandas as pd"
   ]
  },
  {
   "cell_type": "code",
   "execution_count": 14,
   "metadata": {},
   "outputs": [],
   "source": [
    "dataset = pd.read_csv('Datasets/census.csv')"
   ]
  },
  {
   "cell_type": "code",
   "execution_count": 15,
   "metadata": {},
   "outputs": [
    {
     "data": {
      "text/html": [
       "<div>\n",
       "<style scoped>\n",
       "    .dataframe tbody tr th:only-of-type {\n",
       "        vertical-align: middle;\n",
       "    }\n",
       "\n",
       "    .dataframe tbody tr th {\n",
       "        vertical-align: top;\n",
       "    }\n",
       "\n",
       "    .dataframe thead th {\n",
       "        text-align: right;\n",
       "    }\n",
       "</style>\n",
       "<table border=\"1\" class=\"dataframe\">\n",
       "  <thead>\n",
       "    <tr style=\"text-align: right;\">\n",
       "      <th></th>\n",
       "      <th>age</th>\n",
       "      <th>workclass</th>\n",
       "      <th>final-weight</th>\n",
       "      <th>education</th>\n",
       "      <th>education-num</th>\n",
       "      <th>marital-status</th>\n",
       "      <th>occupation</th>\n",
       "      <th>relationship</th>\n",
       "      <th>race</th>\n",
       "      <th>sex</th>\n",
       "      <th>capital-gain</th>\n",
       "      <th>capital-loos</th>\n",
       "      <th>hour-per-week</th>\n",
       "      <th>native-country</th>\n",
       "      <th>income</th>\n",
       "    </tr>\n",
       "  </thead>\n",
       "  <tbody>\n",
       "    <tr>\n",
       "      <th>0</th>\n",
       "      <td>39</td>\n",
       "      <td>State-gov</td>\n",
       "      <td>77516</td>\n",
       "      <td>Bachelors</td>\n",
       "      <td>13</td>\n",
       "      <td>Never-married</td>\n",
       "      <td>Adm-clerical</td>\n",
       "      <td>Not-in-family</td>\n",
       "      <td>White</td>\n",
       "      <td>Male</td>\n",
       "      <td>2174</td>\n",
       "      <td>0</td>\n",
       "      <td>40</td>\n",
       "      <td>United-States</td>\n",
       "      <td>&lt;=50K</td>\n",
       "    </tr>\n",
       "    <tr>\n",
       "      <th>1</th>\n",
       "      <td>50</td>\n",
       "      <td>Self-emp-not-inc</td>\n",
       "      <td>83311</td>\n",
       "      <td>Bachelors</td>\n",
       "      <td>13</td>\n",
       "      <td>Married-civ-spouse</td>\n",
       "      <td>Exec-managerial</td>\n",
       "      <td>Husband</td>\n",
       "      <td>White</td>\n",
       "      <td>Male</td>\n",
       "      <td>0</td>\n",
       "      <td>0</td>\n",
       "      <td>13</td>\n",
       "      <td>United-States</td>\n",
       "      <td>&lt;=50K</td>\n",
       "    </tr>\n",
       "    <tr>\n",
       "      <th>2</th>\n",
       "      <td>38</td>\n",
       "      <td>Private</td>\n",
       "      <td>215646</td>\n",
       "      <td>HS-grad</td>\n",
       "      <td>9</td>\n",
       "      <td>Divorced</td>\n",
       "      <td>Handlers-cleaners</td>\n",
       "      <td>Not-in-family</td>\n",
       "      <td>White</td>\n",
       "      <td>Male</td>\n",
       "      <td>0</td>\n",
       "      <td>0</td>\n",
       "      <td>40</td>\n",
       "      <td>United-States</td>\n",
       "      <td>&lt;=50K</td>\n",
       "    </tr>\n",
       "    <tr>\n",
       "      <th>3</th>\n",
       "      <td>53</td>\n",
       "      <td>Private</td>\n",
       "      <td>234721</td>\n",
       "      <td>11th</td>\n",
       "      <td>7</td>\n",
       "      <td>Married-civ-spouse</td>\n",
       "      <td>Handlers-cleaners</td>\n",
       "      <td>Husband</td>\n",
       "      <td>Black</td>\n",
       "      <td>Male</td>\n",
       "      <td>0</td>\n",
       "      <td>0</td>\n",
       "      <td>40</td>\n",
       "      <td>United-States</td>\n",
       "      <td>&lt;=50K</td>\n",
       "    </tr>\n",
       "    <tr>\n",
       "      <th>4</th>\n",
       "      <td>28</td>\n",
       "      <td>Private</td>\n",
       "      <td>338409</td>\n",
       "      <td>Bachelors</td>\n",
       "      <td>13</td>\n",
       "      <td>Married-civ-spouse</td>\n",
       "      <td>Prof-specialty</td>\n",
       "      <td>Wife</td>\n",
       "      <td>Black</td>\n",
       "      <td>Female</td>\n",
       "      <td>0</td>\n",
       "      <td>0</td>\n",
       "      <td>40</td>\n",
       "      <td>Cuba</td>\n",
       "      <td>&lt;=50K</td>\n",
       "    </tr>\n",
       "  </tbody>\n",
       "</table>\n",
       "</div>"
      ],
      "text/plain": [
       "   age          workclass  final-weight   education  education-num  \\\n",
       "0   39          State-gov         77516   Bachelors             13   \n",
       "1   50   Self-emp-not-inc         83311   Bachelors             13   \n",
       "2   38            Private        215646     HS-grad              9   \n",
       "3   53            Private        234721        11th              7   \n",
       "4   28            Private        338409   Bachelors             13   \n",
       "\n",
       "        marital-status          occupation    relationship    race      sex  \\\n",
       "0        Never-married        Adm-clerical   Not-in-family   White     Male   \n",
       "1   Married-civ-spouse     Exec-managerial         Husband   White     Male   \n",
       "2             Divorced   Handlers-cleaners   Not-in-family   White     Male   \n",
       "3   Married-civ-spouse   Handlers-cleaners         Husband   Black     Male   \n",
       "4   Married-civ-spouse      Prof-specialty            Wife   Black   Female   \n",
       "\n",
       "   capital-gain  capital-loos  hour-per-week  native-country  income  \n",
       "0          2174             0             40   United-States   <=50K  \n",
       "1             0             0             13   United-States   <=50K  \n",
       "2             0             0             40   United-States   <=50K  \n",
       "3             0             0             40   United-States   <=50K  \n",
       "4             0             0             40            Cuba   <=50K  "
      ]
     },
     "execution_count": 15,
     "metadata": {},
     "output_type": "execute_result"
    }
   ],
   "source": [
    "dataset.head()"
   ]
  },
  {
   "cell_type": "code",
   "execution_count": 16,
   "metadata": {},
   "outputs": [],
   "source": [
    "dataset['age'] = pd.cut(dataset['age'], bins=[0, 17, 25, 40, 60, 90], \n",
    "                        labels=['Faixa1', \"Faixa2\", \"Faixa3\", \"Faixa4\", \"Faixa5\"])"
   ]
  },
  {
   "cell_type": "code",
   "execution_count": 17,
   "metadata": {},
   "outputs": [],
   "source": [
    "dataset_apriori = dataset[['age', 'workclass', 'education','marital-status', \n",
    "                           'occupation', 'relationship', 'sex', 'native-country', 'income' ]]"
   ]
  },
  {
   "cell_type": "code",
   "execution_count": 18,
   "metadata": {},
   "outputs": [
    {
     "data": {
      "text/plain": [
       "(32561, 15)"
      ]
     },
     "execution_count": 18,
     "metadata": {},
     "output_type": "execute_result"
    }
   ],
   "source": [
    "dataset.shape"
   ]
  },
  {
   "cell_type": "code",
   "execution_count": 19,
   "metadata": {},
   "outputs": [
    {
     "data": {
      "text/plain": [
       "(1000, 9)"
      ]
     },
     "execution_count": 19,
     "metadata": {},
     "output_type": "execute_result"
    }
   ],
   "source": [
    "dataset_apriori = dataset_apriori.sample(n=1000)\n",
    "dataset_apriori.shape"
   ]
  },
  {
   "cell_type": "code",
   "execution_count": 20,
   "metadata": {},
   "outputs": [],
   "source": [
    "#os dados precisam estar em formato de lista\n",
    "\n",
    "transacoes = []\n",
    "for i in range(dataset_apriori.shape[0]):\n",
    "  transacoes.append([str(dataset_apriori.values[i, j]) for j in range(dataset_apriori.shape[1])])"
   ]
  },
  {
   "cell_type": "code",
   "execution_count": 21,
   "metadata": {},
   "outputs": [
    {
     "data": {
      "text/plain": [
       "[['Faixa3',\n",
       "  ' Private',\n",
       "  ' Assoc-voc',\n",
       "  ' Married-civ-spouse',\n",
       "  ' Exec-managerial',\n",
       "  ' Husband',\n",
       "  ' Male',\n",
       "  ' United-States',\n",
       "  ' <=50K'],\n",
       " ['Faixa3',\n",
       "  ' Private',\n",
       "  ' HS-grad',\n",
       "  ' Married-civ-spouse',\n",
       "  ' Sales',\n",
       "  ' Husband',\n",
       "  ' Male',\n",
       "  ' United-States',\n",
       "  ' <=50K']]"
      ]
     },
     "execution_count": 21,
     "metadata": {},
     "output_type": "execute_result"
    }
   ],
   "source": [
    "transacoes[:2]"
   ]
  },
  {
   "cell_type": "code",
   "execution_count": 22,
   "metadata": {},
   "outputs": [
    {
     "name": "stdout",
     "output_type": "stream",
     "text": [
      "Collecting apyori\n",
      "  Downloading apyori-1.1.2.tar.gz (8.6 kB)\n",
      "  Installing build dependencies: started\n",
      "  Installing build dependencies: finished with status 'done'\n",
      "  Getting requirements to build wheel: started\n",
      "  Getting requirements to build wheel: finished with status 'done'\n",
      "  Preparing metadata (pyproject.toml): started\n",
      "  Preparing metadata (pyproject.toml): finished with status 'done'\n",
      "Building wheels for collected packages: apyori\n",
      "  Building wheel for apyori (pyproject.toml): started\n",
      "  Building wheel for apyori (pyproject.toml): finished with status 'done'\n",
      "  Created wheel for apyori: filename=apyori-1.1.2-py3-none-any.whl size=5973 sha256=64abab88bf74560bbcd728e0304809e311f61d1bb0f4e78e85575bfd09775d18\n",
      "  Stored in directory: c:\\users\\bianca\\appdata\\local\\packages\\pythonsoftwarefoundation.python.3.11_qbz5n2kfra8p0\\localcache\\local\\pip\\cache\\wheels\\77\\3d\\a6\\d317a6fb32be58a602b1e8c6b5d6f31f79322da554cad2a5ea\n",
      "Successfully built apyori\n",
      "Installing collected packages: apyori\n",
      "Successfully installed apyori-1.1.2\n"
     ]
    },
    {
     "name": "stderr",
     "output_type": "stream",
     "text": [
      "\n",
      "[notice] A new release of pip is available: 24.0 -> 24.1.2\n",
      "[notice] To update, run: C:\\Users\\bianca\\AppData\\Local\\Microsoft\\WindowsApps\\PythonSoftwareFoundation.Python.3.11_qbz5n2kfra8p0\\python.exe -m pip install --upgrade pip\n"
     ]
    }
   ],
   "source": [
    "!pip install apyori"
   ]
  },
  {
   "cell_type": "code",
   "execution_count": 23,
   "metadata": {},
   "outputs": [],
   "source": [
    "from apyori import apriori"
   ]
  },
  {
   "cell_type": "code",
   "execution_count": 24,
   "metadata": {},
   "outputs": [],
   "source": [
    "regras = apriori(transacoes, min_support = 0.3, min_confiance = 0.2)\n",
    "resultados = list(regras)"
   ]
  },
  {
   "cell_type": "code",
   "execution_count": 25,
   "metadata": {},
   "outputs": [
    {
     "data": {
      "text/plain": [
       "[RelationRecord(items=frozenset({' <=50K'}), support=0.771, ordered_statistics=[OrderedStatistic(items_base=frozenset(), items_add=frozenset({' <=50K'}), confidence=0.771, lift=1.0)]),\n",
       " RelationRecord(items=frozenset({' Female'}), support=0.322, ordered_statistics=[OrderedStatistic(items_base=frozenset(), items_add=frozenset({' Female'}), confidence=0.322, lift=1.0)]),\n",
       " RelationRecord(items=frozenset({' HS-grad'}), support=0.338, ordered_statistics=[OrderedStatistic(items_base=frozenset(), items_add=frozenset({' HS-grad'}), confidence=0.338, lift=1.0)]),\n",
       " RelationRecord(items=frozenset({' Husband'}), support=0.412, ordered_statistics=[OrderedStatistic(items_base=frozenset(), items_add=frozenset({' Husband'}), confidence=0.412, lift=1.0)]),\n",
       " RelationRecord(items=frozenset({' Male'}), support=0.678, ordered_statistics=[OrderedStatistic(items_base=frozenset(), items_add=frozenset({' Male'}), confidence=0.678, lift=1.0)]),\n",
       " RelationRecord(items=frozenset({' Married-civ-spouse'}), support=0.461, ordered_statistics=[OrderedStatistic(items_base=frozenset(), items_add=frozenset({' Married-civ-spouse'}), confidence=0.461, lift=1.0)]),\n",
       " RelationRecord(items=frozenset({' Never-married'}), support=0.32, ordered_statistics=[OrderedStatistic(items_base=frozenset(), items_add=frozenset({' Never-married'}), confidence=0.32, lift=1.0)]),\n",
       " RelationRecord(items=frozenset({' Private'}), support=0.712, ordered_statistics=[OrderedStatistic(items_base=frozenset(), items_add=frozenset({' Private'}), confidence=0.712, lift=1.0)]),\n",
       " RelationRecord(items=frozenset({' United-States'}), support=0.89, ordered_statistics=[OrderedStatistic(items_base=frozenset(), items_add=frozenset({' United-States'}), confidence=0.89, lift=1.0)]),\n",
       " RelationRecord(items=frozenset({'Faixa3'}), support=0.382, ordered_statistics=[OrderedStatistic(items_base=frozenset(), items_add=frozenset({'Faixa3'}), confidence=0.382, lift=1.0)]),\n",
       " RelationRecord(items=frozenset({'Faixa4'}), support=0.342, ordered_statistics=[OrderedStatistic(items_base=frozenset(), items_add=frozenset({'Faixa4'}), confidence=0.342, lift=1.0)]),\n",
       " RelationRecord(items=frozenset({' <=50K', ' Male'}), support=0.48, ordered_statistics=[OrderedStatistic(items_base=frozenset(), items_add=frozenset({' <=50K', ' Male'}), confidence=0.48, lift=1.0), OrderedStatistic(items_base=frozenset({' <=50K'}), items_add=frozenset({' Male'}), confidence=0.622568093385214, lift=0.9182420256419085), OrderedStatistic(items_base=frozenset({' Male'}), items_add=frozenset({' <=50K'}), confidence=0.7079646017699114, lift=0.9182420256419084)]),\n",
       " RelationRecord(items=frozenset({' <=50K', ' Never-married'}), support=0.306, ordered_statistics=[OrderedStatistic(items_base=frozenset(), items_add=frozenset({' <=50K', ' Never-married'}), confidence=0.306, lift=1.0), OrderedStatistic(items_base=frozenset({' <=50K'}), items_add=frozenset({' Never-married'}), confidence=0.3968871595330739, lift=1.2402723735408558), OrderedStatistic(items_base=frozenset({' Never-married'}), items_add=frozenset({' <=50K'}), confidence=0.9562499999999999, lift=1.2402723735408558)]),\n",
       " RelationRecord(items=frozenset({' <=50K', ' Private'}), support=0.574, ordered_statistics=[OrderedStatistic(items_base=frozenset(), items_add=frozenset({' <=50K', ' Private'}), confidence=0.574, lift=1.0), OrderedStatistic(items_base=frozenset({' <=50K'}), items_add=frozenset({' Private'}), confidence=0.7444876783398183, lift=1.045628761713228), OrderedStatistic(items_base=frozenset({' Private'}), items_add=frozenset({' <=50K'}), confidence=0.8061797752808989, lift=1.045628761713228)]),\n",
       " RelationRecord(items=frozenset({' <=50K', ' United-States'}), support=0.682, ordered_statistics=[OrderedStatistic(items_base=frozenset(), items_add=frozenset({' <=50K', ' United-States'}), confidence=0.682, lift=1.0), OrderedStatistic(items_base=frozenset({' <=50K'}), items_add=frozenset({' United-States'}), confidence=0.8845654993514916, lift=0.993893819496058), OrderedStatistic(items_base=frozenset({' United-States'}), items_add=frozenset({' <=50K'}), confidence=0.7662921348314607, lift=0.993893819496058)]),\n",
       " RelationRecord(items=frozenset({' <=50K', 'Faixa3'}), support=0.309, ordered_statistics=[OrderedStatistic(items_base=frozenset(), items_add=frozenset({' <=50K', 'Faixa3'}), confidence=0.309, lift=1.0), OrderedStatistic(items_base=frozenset({' <=50K'}), items_add=frozenset({'Faixa3'}), confidence=0.4007782101167315, lift=1.0491576181066269), OrderedStatistic(items_base=frozenset({'Faixa3'}), items_add=frozenset({' <=50K'}), confidence=0.8089005235602094, lift=1.0491576181066269)]),\n",
       " RelationRecord(items=frozenset({' HS-grad', ' United-States'}), support=0.312, ordered_statistics=[OrderedStatistic(items_base=frozenset(), items_add=frozenset({' HS-grad', ' United-States'}), confidence=0.312, lift=1.0), OrderedStatistic(items_base=frozenset({' HS-grad'}), items_add=frozenset({' United-States'}), confidence=0.923076923076923, lift=1.0371650821089022), OrderedStatistic(items_base=frozenset({' United-States'}), items_add=frozenset({' HS-grad'}), confidence=0.350561797752809, lift=1.0371650821089022)]),\n",
       " RelationRecord(items=frozenset({' Male', ' Husband'}), support=0.412, ordered_statistics=[OrderedStatistic(items_base=frozenset(), items_add=frozenset({' Male', ' Husband'}), confidence=0.412, lift=1.0), OrderedStatistic(items_base=frozenset({' Husband'}), items_add=frozenset({' Male'}), confidence=1.0, lift=1.4749262536873156), OrderedStatistic(items_base=frozenset({' Male'}), items_add=frozenset({' Husband'}), confidence=0.607669616519174, lift=1.4749262536873156)]),\n",
       " RelationRecord(items=frozenset({' Married-civ-spouse', ' Husband'}), support=0.412, ordered_statistics=[OrderedStatistic(items_base=frozenset(), items_add=frozenset({' Married-civ-spouse', ' Husband'}), confidence=0.412, lift=1.0), OrderedStatistic(items_base=frozenset({' Husband'}), items_add=frozenset({' Married-civ-spouse'}), confidence=1.0, lift=2.1691973969631237), OrderedStatistic(items_base=frozenset({' Married-civ-spouse'}), items_add=frozenset({' Husband'}), confidence=0.8937093275488068, lift=2.1691973969631233)]),\n",
       " RelationRecord(items=frozenset({' Husband', ' United-States'}), support=0.365, ordered_statistics=[OrderedStatistic(items_base=frozenset(), items_add=frozenset({' Husband', ' United-States'}), confidence=0.365, lift=1.0), OrderedStatistic(items_base=frozenset({' Husband'}), items_add=frozenset({' United-States'}), confidence=0.8859223300970874, lift=0.9954183484236937), OrderedStatistic(items_base=frozenset({' United-States'}), items_add=frozenset({' Husband'}), confidence=0.4101123595505618, lift=0.9954183484236937)]),\n",
       " RelationRecord(items=frozenset({' Married-civ-spouse', ' Male'}), support=0.416, ordered_statistics=[OrderedStatistic(items_base=frozenset(), items_add=frozenset({' Male', ' Married-civ-spouse'}), confidence=0.416, lift=1.0), OrderedStatistic(items_base=frozenset({' Male'}), items_add=frozenset({' Married-civ-spouse'}), confidence=0.6135693215339232, lift=1.330952975127816), OrderedStatistic(items_base=frozenset({' Married-civ-spouse'}), items_add=frozenset({' Male'}), confidence=0.9023861171366594, lift=1.3309529751278162)]),\n",
       " RelationRecord(items=frozenset({' Private', ' Male'}), support=0.476, ordered_statistics=[OrderedStatistic(items_base=frozenset(), items_add=frozenset({' Male', ' Private'}), confidence=0.476, lift=1.0), OrderedStatistic(items_base=frozenset({' Male'}), items_add=frozenset({' Private'}), confidence=0.7020648967551621, lift=0.986046203307812), OrderedStatistic(items_base=frozenset({' Private'}), items_add=frozenset({' Male'}), confidence=0.6685393258426966, lift=0.986046203307812)]),\n",
       " RelationRecord(items=frozenset({' Male', ' United-States'}), support=0.6, ordered_statistics=[OrderedStatistic(items_base=frozenset(), items_add=frozenset({' Male', ' United-States'}), confidence=0.6, lift=1.0), OrderedStatistic(items_base=frozenset({' Male'}), items_add=frozenset({' United-States'}), confidence=0.8849557522123893, lift=0.9943323058566171), OrderedStatistic(items_base=frozenset({' United-States'}), items_add=frozenset({' Male'}), confidence=0.6741573033707865, lift=0.9943323058566171)]),\n",
       " RelationRecord(items=frozenset({' Private', ' Married-civ-spouse'}), support=0.313, ordered_statistics=[OrderedStatistic(items_base=frozenset(), items_add=frozenset({' Married-civ-spouse', ' Private'}), confidence=0.313, lift=1.0), OrderedStatistic(items_base=frozenset({' Married-civ-spouse'}), items_add=frozenset({' Private'}), confidence=0.6789587852494576, lift=0.9535937995076652), OrderedStatistic(items_base=frozenset({' Private'}), items_add=frozenset({' Married-civ-spouse'}), confidence=0.43960674157303375, lift=0.9535937995076653)]),\n",
       " RelationRecord(items=frozenset({' Married-civ-spouse', ' United-States'}), support=0.407, ordered_statistics=[OrderedStatistic(items_base=frozenset(), items_add=frozenset({' Married-civ-spouse', ' United-States'}), confidence=0.407, lift=1.0), OrderedStatistic(items_base=frozenset({' Married-civ-spouse'}), items_add=frozenset({' United-States'}), confidence=0.8828633405639912, lift=0.9919812815325744), OrderedStatistic(items_base=frozenset({' United-States'}), items_add=frozenset({' Married-civ-spouse'}), confidence=0.45730337078651684, lift=0.9919812815325745)]),\n",
       " RelationRecord(items=frozenset({' Private', ' United-States'}), support=0.627, ordered_statistics=[OrderedStatistic(items_base=frozenset(), items_add=frozenset({' Private', ' United-States'}), confidence=0.627, lift=1.0), OrderedStatistic(items_base=frozenset({' Private'}), items_add=frozenset({' United-States'}), confidence=0.8806179775280899, lift=0.989458401716955), OrderedStatistic(items_base=frozenset({' United-States'}), items_add=frozenset({' Private'}), confidence=0.7044943820224719, lift=0.989458401716955)]),\n",
       " RelationRecord(items=frozenset({'Faixa3', ' United-States'}), support=0.342, ordered_statistics=[OrderedStatistic(items_base=frozenset(), items_add=frozenset({'Faixa3', ' United-States'}), confidence=0.342, lift=1.0), OrderedStatistic(items_base=frozenset({' United-States'}), items_add=frozenset({'Faixa3'}), confidence=0.38426966292134834, lift=1.005941525972116), OrderedStatistic(items_base=frozenset({'Faixa3'}), items_add=frozenset({' United-States'}), confidence=0.8952879581151832, lift=1.005941525972116)]),\n",
       " RelationRecord(items=frozenset({'Faixa4', ' United-States'}), support=0.3, ordered_statistics=[OrderedStatistic(items_base=frozenset(), items_add=frozenset({'Faixa4', ' United-States'}), confidence=0.3, lift=1.0), OrderedStatistic(items_base=frozenset({' United-States'}), items_add=frozenset({'Faixa4'}), confidence=0.33707865168539325, lift=0.9856100926473486), OrderedStatistic(items_base=frozenset({'Faixa4'}), items_add=frozenset({' United-States'}), confidence=0.8771929824561403, lift=0.9856100926473487)]),\n",
       " RelationRecord(items=frozenset({' <=50K', ' Private', ' Male'}), support=0.357, ordered_statistics=[OrderedStatistic(items_base=frozenset(), items_add=frozenset({' <=50K', ' Male', ' Private'}), confidence=0.357, lift=1.0), OrderedStatistic(items_base=frozenset({' <=50K'}), items_add=frozenset({' Male', ' Private'}), confidence=0.4630350194552529, lift=0.9727626459143969), OrderedStatistic(items_base=frozenset({' Male'}), items_add=frozenset({' <=50K', ' Private'}), confidence=0.5265486725663716, lift=0.9173321821713792), OrderedStatistic(items_base=frozenset({' Private'}), items_add=frozenset({' <=50K', ' Male'}), confidence=0.5014044943820225, lift=1.0445926966292136), OrderedStatistic(items_base=frozenset({' <=50K', ' Male'}), items_add=frozenset({' Private'}), confidence=0.74375, lift=1.0445926966292136), OrderedStatistic(items_base=frozenset({' <=50K', ' Private'}), items_add=frozenset({' Male'}), confidence=0.6219512195121951, lift=0.9173321821713791), OrderedStatistic(items_base=frozenset({' Private', ' Male'}), items_add=frozenset({' <=50K'}), confidence=0.75, lift=0.9727626459143969)]),\n",
       " RelationRecord(items=frozenset({' <=50K', ' Male', ' United-States'}), support=0.42, ordered_statistics=[OrderedStatistic(items_base=frozenset(), items_add=frozenset({' <=50K', ' Male', ' United-States'}), confidence=0.42, lift=1.0), OrderedStatistic(items_base=frozenset({' <=50K'}), items_add=frozenset({' Male', ' United-States'}), confidence=0.5447470817120622, lift=0.9079118028534371), OrderedStatistic(items_base=frozenset({' Male'}), items_add=frozenset({' <=50K', ' United-States'}), confidence=0.6194690265486725, lift=0.9083123556432148), OrderedStatistic(items_base=frozenset({' United-States'}), items_add=frozenset({' <=50K', ' Male'}), confidence=0.47191011235955055, lift=0.9831460674157303), OrderedStatistic(items_base=frozenset({' <=50K', ' Male'}), items_add=frozenset({' United-States'}), confidence=0.875, lift=0.9831460674157303), OrderedStatistic(items_base=frozenset({' <=50K', ' United-States'}), items_add=frozenset({' Male'}), confidence=0.6158357771260996, lift=0.9083123556432147), OrderedStatistic(items_base=frozenset({' Male', ' United-States'}), items_add=frozenset({' <=50K'}), confidence=0.7, lift=0.907911802853437)]),\n",
       " RelationRecord(items=frozenset({' <=50K', ' Private', ' United-States'}), support=0.501, ordered_statistics=[OrderedStatistic(items_base=frozenset(), items_add=frozenset({' <=50K', ' Private', ' United-States'}), confidence=0.501, lift=1.0), OrderedStatistic(items_base=frozenset({' <=50K'}), items_add=frozenset({' Private', ' United-States'}), confidence=0.6498054474708171, lift=1.03637232451486), OrderedStatistic(items_base=frozenset({' Private'}), items_add=frozenset({' <=50K', ' United-States'}), confidence=0.7036516853932585, lift=1.0317473392863028), OrderedStatistic(items_base=frozenset({' United-States'}), items_add=frozenset({' <=50K', ' Private'}), confidence=0.5629213483146067, lift=0.9806992130916494), OrderedStatistic(items_base=frozenset({' <=50K', ' Private'}), items_add=frozenset({' United-States'}), confidence=0.872822299651568, lift=0.9806992130916494), OrderedStatistic(items_base=frozenset({' <=50K', ' United-States'}), items_add=frozenset({' Private'}), confidence=0.7346041055718474, lift=1.0317473392863026), OrderedStatistic(items_base=frozenset({' Private', ' United-States'}), items_add=frozenset({' <=50K'}), confidence=0.7990430622009569, lift=1.0363723245148597)]),\n",
       " RelationRecord(items=frozenset({' Married-civ-spouse', ' Male', ' Husband'}), support=0.412, ordered_statistics=[OrderedStatistic(items_base=frozenset(), items_add=frozenset({' Male', ' Married-civ-spouse', ' Husband'}), confidence=0.412, lift=1.0), OrderedStatistic(items_base=frozenset({' Husband'}), items_add=frozenset({' Male', ' Married-civ-spouse'}), confidence=1.0, lift=2.4038461538461537), OrderedStatistic(items_base=frozenset({' Male'}), items_add=frozenset({' Married-civ-spouse', ' Husband'}), confidence=0.607669616519174, lift=1.4749262536873156), OrderedStatistic(items_base=frozenset({' Married-civ-spouse'}), items_add=frozenset({' Male', ' Husband'}), confidence=0.8937093275488068, lift=2.1691973969631233), OrderedStatistic(items_base=frozenset({' Male', ' Husband'}), items_add=frozenset({' Married-civ-spouse'}), confidence=1.0, lift=2.1691973969631237), OrderedStatistic(items_base=frozenset({' Married-civ-spouse', ' Husband'}), items_add=frozenset({' Male'}), confidence=1.0, lift=1.4749262536873156), OrderedStatistic(items_base=frozenset({' Married-civ-spouse', ' Male'}), items_add=frozenset({' Husband'}), confidence=0.9903846153846154, lift=2.403846153846154)]),\n",
       " RelationRecord(items=frozenset({' Male', ' Husband', ' United-States'}), support=0.365, ordered_statistics=[OrderedStatistic(items_base=frozenset(), items_add=frozenset({' Male', ' Husband', ' United-States'}), confidence=0.365, lift=1.0), OrderedStatistic(items_base=frozenset({' Husband'}), items_add=frozenset({' Male', ' United-States'}), confidence=0.8859223300970874, lift=1.4765372168284792), OrderedStatistic(items_base=frozenset({' Male'}), items_add=frozenset({' Husband', ' United-States'}), confidence=0.5383480825958702, lift=1.4749262536873156), OrderedStatistic(items_base=frozenset({' United-States'}), items_add=frozenset({' Male', ' Husband'}), confidence=0.4101123595505618, lift=0.9954183484236937), OrderedStatistic(items_base=frozenset({' Male', ' Husband'}), items_add=frozenset({' United-States'}), confidence=0.8859223300970874, lift=0.9954183484236937), OrderedStatistic(items_base=frozenset({' Husband', ' United-States'}), items_add=frozenset({' Male'}), confidence=1.0, lift=1.4749262536873156), OrderedStatistic(items_base=frozenset({' Male', ' United-States'}), items_add=frozenset({' Husband'}), confidence=0.6083333333333334, lift=1.4765372168284792)]),\n",
       " RelationRecord(items=frozenset({' Married-civ-spouse', ' Husband', ' United-States'}), support=0.365, ordered_statistics=[OrderedStatistic(items_base=frozenset(), items_add=frozenset({' Married-civ-spouse', ' Husband', ' United-States'}), confidence=0.365, lift=1.0), OrderedStatistic(items_base=frozenset({' Husband'}), items_add=frozenset({' Married-civ-spouse', ' United-States'}), confidence=0.8859223300970874, lift=2.176713341761886), OrderedStatistic(items_base=frozenset({' Married-civ-spouse'}), items_add=frozenset({' Husband', ' United-States'}), confidence=0.79175704989154, lift=2.1691973969631233), OrderedStatistic(items_base=frozenset({' United-States'}), items_add=frozenset({' Married-civ-spouse', ' Husband'}), confidence=0.4101123595505618, lift=0.9954183484236937), OrderedStatistic(items_base=frozenset({' Married-civ-spouse', ' Husband'}), items_add=frozenset({' United-States'}), confidence=0.8859223300970874, lift=0.9954183484236937), OrderedStatistic(items_base=frozenset({' Husband', ' United-States'}), items_add=frozenset({' Married-civ-spouse'}), confidence=1.0, lift=2.1691973969631237), OrderedStatistic(items_base=frozenset({' Married-civ-spouse', ' United-States'}), items_add=frozenset({' Husband'}), confidence=0.8968058968058968, lift=2.176713341761886)]),\n",
       " RelationRecord(items=frozenset({' Married-civ-spouse', ' Male', ' United-States'}), support=0.368, ordered_statistics=[OrderedStatistic(items_base=frozenset(), items_add=frozenset({' Male', ' Married-civ-spouse', ' United-States'}), confidence=0.368, lift=1.0), OrderedStatistic(items_base=frozenset({' Male'}), items_add=frozenset({' Married-civ-spouse', ' United-States'}), confidence=0.5427728613569321, lift=1.3335942539482364), OrderedStatistic(items_base=frozenset({' Married-civ-spouse'}), items_add=frozenset({' Male', ' United-States'}), confidence=0.7982646420824294, lift=1.3304410701373823), OrderedStatistic(items_base=frozenset({' United-States'}), items_add=frozenset({' Male', ' Married-civ-spouse'}), confidence=0.4134831460674157, lift=0.9939498703543648), OrderedStatistic(items_base=frozenset({' Married-civ-spouse', ' Male'}), items_add=frozenset({' United-States'}), confidence=0.8846153846153847, lift=0.9939498703543648), OrderedStatistic(items_base=frozenset({' Male', ' United-States'}), items_add=frozenset({' Married-civ-spouse'}), confidence=0.6133333333333334, lift=1.3304410701373826), OrderedStatistic(items_base=frozenset({' Married-civ-spouse', ' United-States'}), items_add=frozenset({' Male'}), confidence=0.9041769041769042, lift=1.3335942539482362)]),\n",
       " RelationRecord(items=frozenset({' Private', ' Male', ' United-States'}), support=0.416, ordered_statistics=[OrderedStatistic(items_base=frozenset(), items_add=frozenset({' Male', ' Private', ' United-States'}), confidence=0.416, lift=1.0), OrderedStatistic(items_base=frozenset({' Male'}), items_add=frozenset({' Private', ' United-States'}), confidence=0.6135693215339232, lift=0.9785794601816956), OrderedStatistic(items_base=frozenset({' Private'}), items_add=frozenset({' Male', ' United-States'}), confidence=0.5842696629213483, lift=0.9737827715355806), OrderedStatistic(items_base=frozenset({' United-States'}), items_add=frozenset({' Male', ' Private'}), confidence=0.4674157303370786, lift=0.9819658200358795), OrderedStatistic(items_base=frozenset({' Private', ' Male'}), items_add=frozenset({' United-States'}), confidence=0.8739495798319328, lift=0.9819658200358795), OrderedStatistic(items_base=frozenset({' Male', ' United-States'}), items_add=frozenset({' Private'}), confidence=0.6933333333333334, lift=0.9737827715355806), OrderedStatistic(items_base=frozenset({' Private', ' United-States'}), items_add=frozenset({' Male'}), confidence=0.6634768740031898, lift=0.9785794601816957)]),\n",
       " RelationRecord(items=frozenset({' <=50K', ' Private', ' Male', ' United-States'}), support=0.307, ordered_statistics=[OrderedStatistic(items_base=frozenset(), items_add=frozenset({' <=50K', ' Private', ' Male', ' United-States'}), confidence=0.307, lift=1.0), OrderedStatistic(items_base=frozenset({' <=50K'}), items_add=frozenset({' Male', ' Private', ' United-States'}), confidence=0.3981841763942931, lift=0.9571735009478199), OrderedStatistic(items_base=frozenset({' Male'}), items_add=frozenset({' <=50K', ' Private', ' United-States'}), confidence=0.45280235988200584, lift=0.9037971255129857), OrderedStatistic(items_base=frozenset({' Private'}), items_add=frozenset({' <=50K', ' Male', ' United-States'}), confidence=0.4311797752808989, lift=1.026618512573569), OrderedStatistic(items_base=frozenset({' United-States'}), items_add=frozenset({' <=50K', ' Male', ' Private'}), confidence=0.3449438202247191, lift=0.9662291883045353), OrderedStatistic(items_base=frozenset({' <=50K', ' Male'}), items_add=frozenset({' Private', ' United-States'}), confidence=0.6395833333333334, lift=1.0200691121743755), OrderedStatistic(items_base=frozenset({' <=50K', ' Private'}), items_add=frozenset({' Male', ' United-States'}), confidence=0.5348432055749129, lift=0.8914053426248549), OrderedStatistic(items_base=frozenset({' <=50K', ' United-States'}), items_add=frozenset({' Male', ' Private'}), confidence=0.45014662756598234, lift=0.9456861923655091), OrderedStatistic(items_base=frozenset({' Private', ' Male'}), items_add=frozenset({' <=50K', ' United-States'}), confidence=0.6449579831932774, lift=0.9456861923655092), OrderedStatistic(items_base=frozenset({' Male', ' United-States'}), items_add=frozenset({' <=50K', ' Private'}), confidence=0.5116666666666667, lift=0.8914053426248549), OrderedStatistic(items_base=frozenset({' Private', ' United-States'}), items_add=frozenset({' <=50K', ' Male'}), confidence=0.48963317384370014, lift=1.0200691121743752), OrderedStatistic(items_base=frozenset({' <=50K', ' Private', ' Male'}), items_add=frozenset({' United-States'}), confidence=0.8599439775910365, lift=0.9662291883045353), OrderedStatistic(items_base=frozenset({' <=50K', ' Male', ' United-States'}), items_add=frozenset({' Private'}), confidence=0.730952380952381, lift=1.026618512573569), OrderedStatistic(items_base=frozenset({' <=50K', ' Private', ' United-States'}), items_add=frozenset({' Male'}), confidence=0.6127744510978044, lift=0.9037971255129857), OrderedStatistic(items_base=frozenset({' Private', ' Male', ' United-States'}), items_add=frozenset({' <=50K'}), confidence=0.7379807692307693, lift=0.95717350094782)]),\n",
       " RelationRecord(items=frozenset({' Married-civ-spouse', ' Male', ' Husband', ' United-States'}), support=0.365, ordered_statistics=[OrderedStatistic(items_base=frozenset(), items_add=frozenset({' Married-civ-spouse', ' Male', ' Husband', ' United-States'}), confidence=0.365, lift=1.0), OrderedStatistic(items_base=frozenset({' Husband'}), items_add=frozenset({' Male', ' Married-civ-spouse', ' United-States'}), confidence=0.8859223300970874, lift=2.40739763613339), OrderedStatistic(items_base=frozenset({' Male'}), items_add=frozenset({' Married-civ-spouse', ' Husband', ' United-States'}), confidence=0.5383480825958702, lift=1.4749262536873156), OrderedStatistic(items_base=frozenset({' Married-civ-spouse'}), items_add=frozenset({' Male', ' Husband', ' United-States'}), confidence=0.79175704989154, lift=2.1691973969631233), OrderedStatistic(items_base=frozenset({' United-States'}), items_add=frozenset({' Male', ' Married-civ-spouse', ' Husband'}), confidence=0.4101123595505618, lift=0.9954183484236937), OrderedStatistic(items_base=frozenset({' Male', ' Husband'}), items_add=frozenset({' Married-civ-spouse', ' United-States'}), confidence=0.8859223300970874, lift=2.176713341761886), OrderedStatistic(items_base=frozenset({' Married-civ-spouse', ' Husband'}), items_add=frozenset({' Male', ' United-States'}), confidence=0.8859223300970874, lift=1.4765372168284792), OrderedStatistic(items_base=frozenset({' Husband', ' United-States'}), items_add=frozenset({' Male', ' Married-civ-spouse'}), confidence=1.0, lift=2.4038461538461537), OrderedStatistic(items_base=frozenset({' Married-civ-spouse', ' Male'}), items_add=frozenset({' Husband', ' United-States'}), confidence=0.8774038461538461, lift=2.4038461538461537), OrderedStatistic(items_base=frozenset({' Male', ' United-States'}), items_add=frozenset({' Married-civ-spouse', ' Husband'}), confidence=0.6083333333333334, lift=1.4765372168284792), OrderedStatistic(items_base=frozenset({' Married-civ-spouse', ' United-States'}), items_add=frozenset({' Male', ' Husband'}), confidence=0.8968058968058968, lift=2.176713341761886), OrderedStatistic(items_base=frozenset({' Married-civ-spouse', ' Male', ' Husband'}), items_add=frozenset({' United-States'}), confidence=0.8859223300970874, lift=0.9954183484236937), OrderedStatistic(items_base=frozenset({' Male', ' Husband', ' United-States'}), items_add=frozenset({' Married-civ-spouse'}), confidence=1.0, lift=2.1691973969631237), OrderedStatistic(items_base=frozenset({' Married-civ-spouse', ' Husband', ' United-States'}), items_add=frozenset({' Male'}), confidence=1.0, lift=1.4749262536873156), OrderedStatistic(items_base=frozenset({' Married-civ-spouse', ' Male', ' United-States'}), items_add=frozenset({' Husband'}), confidence=0.9918478260869565, lift=2.40739763613339)])]"
      ]
     },
     "execution_count": 25,
     "metadata": {},
     "output_type": "execute_result"
    }
   ],
   "source": [
    "resultados"
   ]
  }
 ],
 "metadata": {
  "kernelspec": {
   "display_name": "Python 3",
   "language": "python",
   "name": "python3"
  },
  "language_info": {
   "codemirror_mode": {
    "name": "ipython",
    "version": 3
   },
   "file_extension": ".py",
   "mimetype": "text/x-python",
   "name": "python",
   "nbconvert_exporter": "python",
   "pygments_lexer": "ipython3",
   "version": "3.11.9"
  }
 },
 "nbformat": 4,
 "nbformat_minor": 2
}
