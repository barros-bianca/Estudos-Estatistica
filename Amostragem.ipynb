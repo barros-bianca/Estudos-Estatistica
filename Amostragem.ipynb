{
 "cells": [
  {
   "cell_type": "code",
   "execution_count": 2,
   "metadata": {},
   "outputs": [
    {
     "name": "stdout",
     "output_type": "stream",
     "text": [
      "Collecting pandasNote: you may need to restart the kernel to use updated packages.\n",
      "\n",
      "  Downloading pandas-2.2.2-cp311-cp311-win_amd64.whl.metadata (19 kB)\n",
      "Collecting numpy>=1.23.2 (from pandas)\n",
      "  Downloading numpy-2.0.0-cp311-cp311-win_amd64.whl.metadata (60 kB)\n",
      "     ---------------------------------------- 0.0/60.9 kB ? eta -:--:--\n",
      "     ------ --------------------------------- 10.2/60.9 kB ? eta -:--:--\n",
      "     ------------------------------- ------ 51.2/60.9 kB 660.6 kB/s eta 0:00:01\n",
      "     -------------------------------------- 60.9/60.9 kB 649.5 kB/s eta 0:00:00\n",
      "Requirement already satisfied: python-dateutil>=2.8.2 in c:\\users\\bianca\\appdata\\local\\packages\\pythonsoftwarefoundation.python.3.11_qbz5n2kfra8p0\\localcache\\local-packages\\python311\\site-packages (from pandas) (2.9.0.post0)\n",
      "Collecting pytz>=2020.1 (from pandas)\n",
      "  Downloading pytz-2024.1-py2.py3-none-any.whl.metadata (22 kB)\n",
      "Collecting tzdata>=2022.7 (from pandas)\n",
      "  Downloading tzdata-2024.1-py2.py3-none-any.whl.metadata (1.4 kB)\n",
      "Requirement already satisfied: six>=1.5 in c:\\users\\bianca\\appdata\\local\\packages\\pythonsoftwarefoundation.python.3.11_qbz5n2kfra8p0\\localcache\\local-packages\\python311\\site-packages (from python-dateutil>=2.8.2->pandas) (1.16.0)\n",
      "Downloading pandas-2.2.2-cp311-cp311-win_amd64.whl (11.6 MB)\n",
      "   ---------------------------------------- 0.0/11.6 MB ? eta -:--:--\n",
      "    --------------------------------------- 0.2/11.6 MB 6.3 MB/s eta 0:00:02\n",
      "   -- ------------------------------------- 0.6/11.6 MB 8.1 MB/s eta 0:00:02\n",
      "   --- ------------------------------------ 1.0/11.6 MB 8.2 MB/s eta 0:00:02\n",
      "   ---- ----------------------------------- 1.3/11.6 MB 7.6 MB/s eta 0:00:02\n",
      "   ----- ---------------------------------- 1.6/11.6 MB 7.5 MB/s eta 0:00:02\n",
      "   ------ --------------------------------- 2.0/11.6 MB 7.4 MB/s eta 0:00:02\n",
      "   ------- -------------------------------- 2.1/11.6 MB 6.8 MB/s eta 0:00:02\n",
      "   ------- -------------------------------- 2.3/11.6 MB 6.4 MB/s eta 0:00:02\n",
      "   -------- ------------------------------- 2.5/11.6 MB 6.2 MB/s eta 0:00:02\n",
      "   --------- ------------------------------ 2.7/11.6 MB 6.0 MB/s eta 0:00:02\n",
      "   ---------- ----------------------------- 2.9/11.6 MB 5.9 MB/s eta 0:00:02\n",
      "   ---------- ----------------------------- 3.1/11.6 MB 5.7 MB/s eta 0:00:02\n",
      "   ----------- ---------------------------- 3.3/11.6 MB 5.5 MB/s eta 0:00:02\n",
      "   ----------- ---------------------------- 3.5/11.6 MB 5.4 MB/s eta 0:00:02\n",
      "   ------------ --------------------------- 3.7/11.6 MB 5.3 MB/s eta 0:00:02\n",
      "   ------------- -------------------------- 3.9/11.6 MB 5.3 MB/s eta 0:00:02\n",
      "   ------------- -------------------------- 4.0/11.6 MB 5.2 MB/s eta 0:00:02\n",
      "   -------------- ------------------------- 4.2/11.6 MB 5.0 MB/s eta 0:00:02\n",
      "   -------------- ------------------------- 4.4/11.6 MB 5.0 MB/s eta 0:00:02\n",
      "   --------------- ------------------------ 4.5/11.6 MB 4.9 MB/s eta 0:00:02\n",
      "   ---------------- ----------------------- 4.7/11.6 MB 4.9 MB/s eta 0:00:02\n",
      "   ---------------- ----------------------- 4.9/11.6 MB 4.8 MB/s eta 0:00:02\n",
      "   ----------------- ---------------------- 5.1/11.6 MB 4.8 MB/s eta 0:00:02\n",
      "   ------------------ --------------------- 5.2/11.6 MB 4.7 MB/s eta 0:00:02\n",
      "   ------------------ --------------------- 5.4/11.6 MB 4.7 MB/s eta 0:00:02\n",
      "   ------------------- -------------------- 5.6/11.6 MB 4.6 MB/s eta 0:00:02\n",
      "   ------------------- -------------------- 5.8/11.6 MB 4.6 MB/s eta 0:00:02\n",
      "   -------------------- ------------------- 5.9/11.6 MB 4.6 MB/s eta 0:00:02\n",
      "   --------------------- ------------------ 6.1/11.6 MB 4.5 MB/s eta 0:00:02\n",
      "   --------------------- ------------------ 6.3/11.6 MB 4.5 MB/s eta 0:00:02\n",
      "   ---------------------- ----------------- 6.5/11.6 MB 4.4 MB/s eta 0:00:02\n",
      "   ---------------------- ----------------- 6.7/11.6 MB 4.4 MB/s eta 0:00:02\n",
      "   ----------------------- ---------------- 6.8/11.6 MB 4.4 MB/s eta 0:00:02\n",
      "   ----------------------- ---------------- 7.0/11.6 MB 4.4 MB/s eta 0:00:02\n",
      "   ------------------------ --------------- 7.1/11.6 MB 4.3 MB/s eta 0:00:02\n",
      "   ------------------------- -------------- 7.3/11.6 MB 4.3 MB/s eta 0:00:01\n",
      "   ------------------------- -------------- 7.5/11.6 MB 4.3 MB/s eta 0:00:01\n",
      "   -------------------------- ------------- 7.7/11.6 MB 4.3 MB/s eta 0:00:01\n",
      "   --------------------------- ------------ 7.9/11.6 MB 4.3 MB/s eta 0:00:01\n",
      "   ---------------------------- ----------- 8.2/11.6 MB 4.3 MB/s eta 0:00:01\n",
      "   ---------------------------- ----------- 8.4/11.6 MB 4.4 MB/s eta 0:00:01\n",
      "   ----------------------------- ---------- 8.6/11.6 MB 4.4 MB/s eta 0:00:01\n",
      "   ------------------------------ --------- 8.9/11.6 MB 4.4 MB/s eta 0:00:01\n",
      "   ------------------------------- -------- 9.2/11.6 MB 4.5 MB/s eta 0:00:01\n",
      "   -------------------------------- ------- 9.5/11.6 MB 4.5 MB/s eta 0:00:01\n",
      "   --------------------------------- ------ 9.8/11.6 MB 4.5 MB/s eta 0:00:01\n",
      "   ---------------------------------- ----- 10.1/11.6 MB 4.6 MB/s eta 0:00:01\n",
      "   ----------------------------------- ---- 10.4/11.6 MB 4.6 MB/s eta 0:00:01\n",
      "   ------------------------------------ --- 10.7/11.6 MB 4.6 MB/s eta 0:00:01\n",
      "   ------------------------------------- -- 10.9/11.6 MB 4.5 MB/s eta 0:00:01\n",
      "   -------------------------------------- - 11.1/11.6 MB 4.5 MB/s eta 0:00:01\n",
      "   ---------------------------------------  11.4/11.6 MB 4.5 MB/s eta 0:00:01\n",
      "   ---------------------------------------  11.6/11.6 MB 4.5 MB/s eta 0:00:01\n",
      "   ---------------------------------------  11.6/11.6 MB 4.5 MB/s eta 0:00:01\n",
      "   ---------------------------------------  11.6/11.6 MB 4.5 MB/s eta 0:00:01\n",
      "   ---------------------------------------  11.6/11.6 MB 4.5 MB/s eta 0:00:01\n",
      "   ---------------------------------------  11.6/11.6 MB 4.5 MB/s eta 0:00:01\n",
      "   ---------------------------------------- 11.6/11.6 MB 4.1 MB/s eta 0:00:00\n",
      "Downloading numpy-2.0.0-cp311-cp311-win_amd64.whl (16.5 MB)\n",
      "   ---------------------------------------- 0.0/16.5 MB ? eta -:--:--\n",
      "    --------------------------------------- 0.3/16.5 MB 9.0 MB/s eta 0:00:02\n",
      "   - -------------------------------------- 0.6/16.5 MB 7.9 MB/s eta 0:00:03\n",
      "   -- ------------------------------------- 1.0/16.5 MB 6.8 MB/s eta 0:00:03\n",
      "   -- ------------------------------------- 1.2/16.5 MB 6.7 MB/s eta 0:00:03\n",
      "   --- ------------------------------------ 1.3/16.5 MB 6.0 MB/s eta 0:00:03\n",
      "   --- ------------------------------------ 1.5/16.5 MB 5.5 MB/s eta 0:00:03\n",
      "   ---- ----------------------------------- 1.7/16.5 MB 5.3 MB/s eta 0:00:03\n",
      "   ---- ----------------------------------- 1.9/16.5 MB 5.0 MB/s eta 0:00:03\n",
      "   ----- ---------------------------------- 2.1/16.5 MB 4.9 MB/s eta 0:00:03\n",
      "   ----- ---------------------------------- 2.3/16.5 MB 4.9 MB/s eta 0:00:03\n",
      "   ------ --------------------------------- 2.5/16.5 MB 4.9 MB/s eta 0:00:03\n",
      "   ------ --------------------------------- 2.8/16.5 MB 5.0 MB/s eta 0:00:03\n",
      "   ------- -------------------------------- 3.0/16.5 MB 5.1 MB/s eta 0:00:03\n",
      "   ------- -------------------------------- 3.2/16.5 MB 4.9 MB/s eta 0:00:03\n",
      "   -------- ------------------------------- 3.4/16.5 MB 4.8 MB/s eta 0:00:03\n",
      "   -------- ------------------------------- 3.6/16.5 MB 4.8 MB/s eta 0:00:03\n",
      "   --------- ------------------------------ 3.9/16.5 MB 4.8 MB/s eta 0:00:03\n",
      "   --------- ------------------------------ 4.1/16.5 MB 4.8 MB/s eta 0:00:03\n",
      "   ---------- ----------------------------- 4.3/16.5 MB 4.8 MB/s eta 0:00:03\n",
      "   ----------- ---------------------------- 4.6/16.5 MB 4.9 MB/s eta 0:00:03\n",
      "   ----------- ---------------------------- 4.9/16.5 MB 4.9 MB/s eta 0:00:03\n",
      "   ------------ --------------------------- 5.2/16.5 MB 5.0 MB/s eta 0:00:03\n",
      "   ------------- -------------------------- 5.5/16.5 MB 5.1 MB/s eta 0:00:03\n",
      "   -------------- ------------------------- 5.8/16.5 MB 5.2 MB/s eta 0:00:03\n",
      "   -------------- ------------------------- 5.9/16.5 MB 5.1 MB/s eta 0:00:03\n",
      "   --------------- ------------------------ 6.2/16.5 MB 5.1 MB/s eta 0:00:03\n",
      "   --------------- ------------------------ 6.5/16.5 MB 5.1 MB/s eta 0:00:02\n",
      "   ---------------- ----------------------- 6.6/16.5 MB 5.0 MB/s eta 0:00:02\n",
      "   ---------------- ----------------------- 6.8/16.5 MB 5.0 MB/s eta 0:00:02\n",
      "   ---------------- ----------------------- 7.0/16.5 MB 5.0 MB/s eta 0:00:02\n",
      "   ----------------- ---------------------- 7.2/16.5 MB 4.9 MB/s eta 0:00:02\n",
      "   ----------------- ---------------------- 7.4/16.5 MB 4.9 MB/s eta 0:00:02\n",
      "   ------------------ --------------------- 7.7/16.5 MB 4.9 MB/s eta 0:00:02\n",
      "   ------------------- -------------------- 7.9/16.5 MB 5.0 MB/s eta 0:00:02\n",
      "   ------------------- -------------------- 8.2/16.5 MB 5.0 MB/s eta 0:00:02\n",
      "   -------------------- ------------------- 8.5/16.5 MB 5.0 MB/s eta 0:00:02\n",
      "   --------------------- ------------------ 8.7/16.5 MB 5.0 MB/s eta 0:00:02\n",
      "   --------------------- ------------------ 8.9/16.5 MB 5.0 MB/s eta 0:00:02\n",
      "   ---------------------- ----------------- 9.1/16.5 MB 5.0 MB/s eta 0:00:02\n",
      "   ---------------------- ----------------- 9.4/16.5 MB 5.0 MB/s eta 0:00:02\n",
      "   ----------------------- ---------------- 9.6/16.5 MB 5.0 MB/s eta 0:00:02\n",
      "   ----------------------- ---------------- 9.8/16.5 MB 5.0 MB/s eta 0:00:02\n",
      "   ------------------------ --------------- 10.1/16.5 MB 5.0 MB/s eta 0:00:02\n",
      "   ------------------------ --------------- 10.3/16.5 MB 5.0 MB/s eta 0:00:02\n",
      "   ------------------------- -------------- 10.6/16.5 MB 5.0 MB/s eta 0:00:02\n",
      "   ------------------------- -------------- 10.7/16.5 MB 4.9 MB/s eta 0:00:02\n",
      "   -------------------------- ------------- 11.0/16.5 MB 4.9 MB/s eta 0:00:02\n",
      "   --------------------------- ------------ 11.2/16.5 MB 4.9 MB/s eta 0:00:02\n",
      "   --------------------------- ------------ 11.5/16.5 MB 4.9 MB/s eta 0:00:02\n",
      "   ---------------------------- ----------- 11.6/16.5 MB 4.9 MB/s eta 0:00:02\n",
      "   ---------------------------- ----------- 11.8/16.5 MB 4.9 MB/s eta 0:00:01\n",
      "   ----------------------------- ---------- 12.0/16.5 MB 4.9 MB/s eta 0:00:01\n",
      "   ----------------------------- ---------- 12.2/16.5 MB 4.9 MB/s eta 0:00:01\n",
      "   ------------------------------ --------- 12.5/16.5 MB 4.9 MB/s eta 0:00:01\n",
      "   ------------------------------ --------- 12.7/16.5 MB 4.9 MB/s eta 0:00:01\n",
      "   ------------------------------- -------- 13.0/16.5 MB 4.9 MB/s eta 0:00:01\n",
      "   -------------------------------- ------- 13.3/16.5 MB 5.0 MB/s eta 0:00:01\n",
      "   -------------------------------- ------- 13.6/16.5 MB 5.0 MB/s eta 0:00:01\n",
      "   --------------------------------- ------ 13.9/16.5 MB 5.1 MB/s eta 0:00:01\n",
      "   ---------------------------------- ----- 14.3/16.5 MB 5.1 MB/s eta 0:00:01\n",
      "   ----------------------------------- ---- 14.5/16.5 MB 5.1 MB/s eta 0:00:01\n",
      "   ----------------------------------- ---- 14.7/16.5 MB 5.1 MB/s eta 0:00:01\n",
      "   ------------------------------------ --- 14.9/16.5 MB 5.1 MB/s eta 0:00:01\n",
      "   ------------------------------------ --- 15.1/16.5 MB 5.0 MB/s eta 0:00:01\n",
      "   ------------------------------------- -- 15.4/16.5 MB 5.0 MB/s eta 0:00:01\n",
      "   ------------------------------------- -- 15.6/16.5 MB 5.0 MB/s eta 0:00:01\n",
      "   -------------------------------------- - 15.8/16.5 MB 5.0 MB/s eta 0:00:01\n",
      "   -------------------------------------- - 16.0/16.5 MB 4.9 MB/s eta 0:00:01\n",
      "   ---------------------------------------  16.3/16.5 MB 5.0 MB/s eta 0:00:01\n",
      "   ---------------------------------------  16.5/16.5 MB 5.0 MB/s eta 0:00:01\n",
      "   ---------------------------------------  16.5/16.5 MB 4.9 MB/s eta 0:00:01\n",
      "   ---------------------------------------  16.5/16.5 MB 4.9 MB/s eta 0:00:01\n",
      "   ---------------------------------------  16.5/16.5 MB 4.9 MB/s eta 0:00:01\n",
      "   ---------------------------------------  16.5/16.5 MB 4.9 MB/s eta 0:00:01\n",
      "   ---------------------------------------- 16.5/16.5 MB 4.5 MB/s eta 0:00:00\n",
      "Downloading pytz-2024.1-py2.py3-none-any.whl (505 kB)\n",
      "   ---------------------------------------- 0.0/505.5 kB ? eta -:--:--\n",
      "   ------------------- -------------------- 245.8/505.5 kB 7.6 MB/s eta 0:00:01\n",
      "   ---------------------------------------  501.8/505.5 kB 6.3 MB/s eta 0:00:01\n",
      "   ---------------------------------------- 505.5/505.5 kB 5.3 MB/s eta 0:00:00\n",
      "Downloading tzdata-2024.1-py2.py3-none-any.whl (345 kB)\n",
      "   ---------------------------------------- 0.0/345.4 kB ? eta -:--:--\n",
      "   ------------------------------------- - 327.7/345.4 kB 10.2 MB/s eta 0:00:01\n",
      "   ---------------------------------------- 345.4/345.4 kB 5.4 MB/s eta 0:00:00\n",
      "Installing collected packages: pytz, tzdata, numpy, pandas\n",
      "Successfully installed numpy-2.0.0 pandas-2.2.2 pytz-2024.1 tzdata-2024.1\n"
     ]
    },
    {
     "name": "stderr",
     "output_type": "stream",
     "text": [
      "\n",
      "[notice] A new release of pip is available: 24.0 -> 24.1.2\n",
      "[notice] To update, run: C:\\Users\\bianca\\AppData\\Local\\Microsoft\\WindowsApps\\PythonSoftwareFoundation.Python.3.11_qbz5n2kfra8p0\\python.exe -m pip install --upgrade pip\n"
     ]
    }
   ],
   "source": [
    "pip install pandas"
   ]
  },
  {
   "cell_type": "code",
   "execution_count": 17,
   "metadata": {},
   "outputs": [],
   "source": [
    "import pandas as pd\n",
    "import numpy as np\n",
    "import random\n"
   ]
  },
  {
   "cell_type": "markdown",
   "metadata": {},
   "source": [
    "#AMOSTRAGEM DE RESERVATORIO"
   ]
  },
  {
   "cell_type": "code",
   "execution_count": 11,
   "metadata": {},
   "outputs": [],
   "source": [
    "dataset = pd.read_csv('/Users/bianca/Documents/Estudos-Estatistica/Datasets/census.csv')"
   ]
  },
  {
   "cell_type": "code",
   "execution_count": 12,
   "metadata": {},
   "outputs": [],
   "source": [
    "#adiciona um indice em cada registro do dataset\n",
    "stream = []\n",
    "for i in range (len(dataset)):\n",
    "    stream.append(i)"
   ]
  },
  {
   "cell_type": "code",
   "execution_count": 20,
   "metadata": {},
   "outputs": [],
   "source": [
    "def amostragem_reservatorio(dataset, amostras):\n",
    "  stream = []\n",
    "  for i in range(len(dataset)):\n",
    "    stream.append(i)\n",
    "\n",
    "  i = 0\n",
    "  tamanho = len(dataset)\n",
    "\n",
    "  reservatorio = [0] * amostras\n",
    "  for i in range(amostras):\n",
    "    reservatorio[i] = stream[i]\n",
    "\n",
    "  while i < tamanho:\n",
    "    j = random.randrange(i + 1)\n",
    "    if j < amostras:\n",
    "      reservatorio[j] = stream[i]\n",
    "    i += 1\n",
    "\n",
    "  return dataset.iloc[reservatorio]"
   ]
  },
  {
   "cell_type": "code",
   "execution_count": 21,
   "metadata": {},
   "outputs": [
    {
     "data": {
      "text/plain": [
       "(32561, 15)"
      ]
     },
     "execution_count": 21,
     "metadata": {},
     "output_type": "execute_result"
    }
   ],
   "source": [
    "df_amostragem_reservatorio = amostragem_reservatorio(dataset, 100)\n",
    "dataset.shape"
   ]
  },
  {
   "cell_type": "markdown",
   "metadata": {},
   "source": [
    "#EXERCICIO"
   ]
  },
  {
   "cell_type": "code",
   "execution_count": 23,
   "metadata": {},
   "outputs": [],
   "source": [
    "\n",
    "df = pd.read_csv('Datasets/credit_data.csv')\n"
   ]
  },
  {
   "cell_type": "code",
   "execution_count": 27,
   "metadata": {},
   "outputs": [
    {
     "data": {
      "text/plain": [
       "(2000, 5)"
      ]
     },
     "execution_count": 27,
     "metadata": {},
     "output_type": "execute_result"
    }
   ],
   "source": [
    "df.shape"
   ]
  },
  {
   "cell_type": "code",
   "execution_count": 32,
   "metadata": {},
   "outputs": [],
   "source": [
    "#amostragem simples\n",
    "qtd = 1000\n",
    "amostra_simples = df.sample(n = 1000)"
   ]
  },
  {
   "cell_type": "code",
   "execution_count": 33,
   "metadata": {},
   "outputs": [
    {
     "data": {
      "text/plain": [
       "(1000, 5)"
      ]
     },
     "execution_count": 33,
     "metadata": {},
     "output_type": "execute_result"
    }
   ],
   "source": [
    "amostra_simples.shape"
   ]
  },
  {
   "cell_type": "code",
   "execution_count": 35,
   "metadata": {},
   "outputs": [
    {
     "data": {
      "text/plain": [
       "2"
      ]
     },
     "execution_count": 35,
     "metadata": {},
     "output_type": "execute_result"
    }
   ],
   "source": [
    "#amostragem sistematica\n",
    "step = len(df)//1000\n",
    "step"
   ]
  },
  {
   "cell_type": "code",
   "execution_count": 40,
   "metadata": {},
   "outputs": [
    {
     "data": {
      "text/plain": [
       "0"
      ]
     },
     "execution_count": 40,
     "metadata": {},
     "output_type": "execute_result"
    }
   ],
   "source": [
    "start = random.randint(0,step)\n",
    "start"
   ]
  },
  {
   "cell_type": "code",
   "execution_count": 41,
   "metadata": {},
   "outputs": [],
   "source": [
    "amostra_sistematica = np.arange(start, len(df), step = step)"
   ]
  },
  {
   "cell_type": "code",
   "execution_count": 43,
   "metadata": {},
   "outputs": [
    {
     "data": {
      "text/plain": [
       "(1000,)"
      ]
     },
     "execution_count": 43,
     "metadata": {},
     "output_type": "execute_result"
    }
   ],
   "source": [
    "amostra_sistematica.shape"
   ]
  },
  {
   "cell_type": "code",
   "execution_count": 72,
   "metadata": {},
   "outputs": [],
   "source": [
    "#amostragem grupos\n",
    "\n",
    "grupos = []\n",
    "id_grupo = 0\n",
    "contagem = 0\n",
    "for _ in df.iterrows():\n",
    "    grupos.append(id_grupo)\n",
    "    contagem += 1\n",
    "    if contagem > 1000:\n",
    "        contagem = 0\n",
    "        id_grupo +=1\n",
    "\n"
   ]
  },
  {
   "cell_type": "code",
   "execution_count": 79,
   "metadata": {},
   "outputs": [
    {
     "data": {
      "text/html": [
       "<div>\n",
       "<style scoped>\n",
       "    .dataframe tbody tr th:only-of-type {\n",
       "        vertical-align: middle;\n",
       "    }\n",
       "\n",
       "    .dataframe tbody tr th {\n",
       "        vertical-align: top;\n",
       "    }\n",
       "\n",
       "    .dataframe thead th {\n",
       "        text-align: right;\n",
       "    }\n",
       "</style>\n",
       "<table border=\"1\" class=\"dataframe\">\n",
       "  <thead>\n",
       "    <tr style=\"text-align: right;\">\n",
       "      <th></th>\n",
       "      <th>i#clientid</th>\n",
       "      <th>income</th>\n",
       "      <th>age</th>\n",
       "      <th>loan</th>\n",
       "      <th>c#default</th>\n",
       "      <th>grupos</th>\n",
       "    </tr>\n",
       "  </thead>\n",
       "  <tbody>\n",
       "    <tr>\n",
       "      <th>0</th>\n",
       "      <td>1</td>\n",
       "      <td>66155.925095</td>\n",
       "      <td>59.017015</td>\n",
       "      <td>8106.532131</td>\n",
       "      <td>0</td>\n",
       "      <td>0</td>\n",
       "    </tr>\n",
       "    <tr>\n",
       "      <th>1</th>\n",
       "      <td>2</td>\n",
       "      <td>34415.153966</td>\n",
       "      <td>48.117153</td>\n",
       "      <td>6564.745018</td>\n",
       "      <td>0</td>\n",
       "      <td>0</td>\n",
       "    </tr>\n",
       "    <tr>\n",
       "      <th>2</th>\n",
       "      <td>3</td>\n",
       "      <td>57317.170063</td>\n",
       "      <td>63.108049</td>\n",
       "      <td>8020.953296</td>\n",
       "      <td>0</td>\n",
       "      <td>0</td>\n",
       "    </tr>\n",
       "    <tr>\n",
       "      <th>3</th>\n",
       "      <td>4</td>\n",
       "      <td>42709.534201</td>\n",
       "      <td>45.751972</td>\n",
       "      <td>6103.642260</td>\n",
       "      <td>0</td>\n",
       "      <td>0</td>\n",
       "    </tr>\n",
       "    <tr>\n",
       "      <th>4</th>\n",
       "      <td>5</td>\n",
       "      <td>66952.688845</td>\n",
       "      <td>18.584336</td>\n",
       "      <td>8770.099235</td>\n",
       "      <td>1</td>\n",
       "      <td>0</td>\n",
       "    </tr>\n",
       "  </tbody>\n",
       "</table>\n",
       "</div>"
      ],
      "text/plain": [
       "   i#clientid        income        age         loan  c#default  grupos\n",
       "0           1  66155.925095  59.017015  8106.532131          0       0\n",
       "1           2  34415.153966  48.117153  6564.745018          0       0\n",
       "2           3  57317.170063  63.108049  8020.953296          0       0\n",
       "3           4  42709.534201  45.751972  6103.642260          0       0\n",
       "4           5  66952.688845  18.584336  8770.099235          1       0"
      ]
     },
     "execution_count": 79,
     "metadata": {},
     "output_type": "execute_result"
    }
   ],
   "source": [
    "df['grupos'] = grupos\n",
    "df.head()"
   ]
  },
  {
   "cell_type": "code",
   "execution_count": 80,
   "metadata": {},
   "outputs": [
    {
     "data": {
      "text/plain": [
       "array([0, 1])"
      ]
     },
     "execution_count": 80,
     "metadata": {},
     "output_type": "execute_result"
    }
   ],
   "source": [
    "np.unique(df['grupos'])"
   ]
  },
  {
   "cell_type": "code",
   "execution_count": 81,
   "metadata": {},
   "outputs": [
    {
     "data": {
      "text/plain": [
       "0"
      ]
     },
     "execution_count": 81,
     "metadata": {},
     "output_type": "execute_result"
    }
   ],
   "source": [
    "grupo_final = random.randint (0,1)\n",
    "grupo_final"
   ]
  },
  {
   "cell_type": "code",
   "execution_count": 82,
   "metadata": {},
   "outputs": [
    {
     "data": {
      "text/plain": [
       "(1001, 6)"
      ]
     },
     "execution_count": 82,
     "metadata": {},
     "output_type": "execute_result"
    }
   ],
   "source": [
    "df_agrupamento = df[df['grupos']==grupo_final]\n",
    "df_agrupamento.shape"
   ]
  }
 ],
 "metadata": {
  "kernelspec": {
   "display_name": "Python 3",
   "language": "python",
   "name": "python3"
  },
  "language_info": {
   "codemirror_mode": {
    "name": "ipython",
    "version": 3
   },
   "file_extension": ".py",
   "mimetype": "text/x-python",
   "name": "python",
   "nbconvert_exporter": "python",
   "pygments_lexer": "ipython3",
   "version": "3.11.9"
  }
 },
 "nbformat": 4,
 "nbformat_minor": 2
}
